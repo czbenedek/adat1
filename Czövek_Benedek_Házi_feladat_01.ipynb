{
    "metadata": {
        "kernelspec": {
            "name": "SQL",
            "display_name": "SQL",
            "language": "sql"
        },
        "language_info": {
            "name": "sql",
            "version": ""
        }
    },
    "nbformat_minor": 2,
    "nbformat": 4,
    "cells": [
        {
            "cell_type": "markdown",
            "source": [
                "# Czövek Benedek - Adatbázisok Házi feladat 01"
            ],
            "metadata": {
                "azdata_cell_guid": "46fc586a-70bf-440f-be8b-a046ae6c11c4"
            },
            "attachments": {}
        },
        {
            "cell_type": "markdown",
            "source": [
                "A webshop adatbázis 'Rendeles' tábláját fogom vizsgálni.\n",
                "\n",
                "  \n",
                "\n",
                "  \n",
                "\n",
                "<span style=\"color: var(--vscode-foreground);\">Először megnézem a sorok számát és az oszlopok null értékeinek számát.</span>"
            ],
            "metadata": {
                "azdata_cell_guid": "17ba57b0-b085-4a14-ac26-d6d7e566c3c2"
            },
            "attachments": {}
        },
        {
            "cell_type": "code",
            "source": [
                "SELECT \r\n",
                "    COUNT(*) AS \"Összes sor db\",\r\n",
                "    SUM(IIF(SORSZAM IS NULL, 1, 0)) AS \"SORSZAM null db\",\r\n",
                "    SUM(IIF(LOGIN IS NULL, 1, 0)) AS \"LOGIN null db\",\r\n",
                "    SUM(IIF(REND_DATUM IS NULL, 1, 0)) AS \"REND_DATUM null db\",\r\n",
                "    SUM(IIF(SZALL_DATUM IS NULL, 1, 0)) AS \"SZALL_DATUM null db\",\r\n",
                "    SUM(IIF(SZALL_CIM IS NULL, 1, 0)) AS \"SZALL_CIM null db\",\r\n",
                "    SUM(IIF(SZALL_MOD IS NULL, 1, 0)) AS \"SZALL_MOD null db\",\r\n",
                "    SUM(IIF(FIZ_MOD IS NULL, 1, 0)) AS \"FIZ_MOD null db\",\r\n",
                "    SUM(IIF(SZAMLA_CIM IS NULL, 1, 0)) AS \"SZAMLA_CIM null db\"\r\n",
                "FROM Rendeles"
            ],
            "metadata": {
                "azdata_cell_guid": "e28b582d-3a6b-4b53-970d-583a3e5c3ded",
                "language": "sql",
                "tags": []
            },
            "outputs": [
                {
                    "output_type": "display_data",
                    "data": {
                        "text/html": "(1 row affected)"
                    },
                    "metadata": {}
                },
                {
                    "output_type": "display_data",
                    "data": {
                        "text/html": "Total execution time: 00:00:00.223"
                    },
                    "metadata": {}
                },
                {
                    "output_type": "execute_result",
                    "metadata": {},
                    "execution_count": 70,
                    "data": {
                        "application/vnd.dataresource+json": {
                            "schema": {
                                "fields": [
                                    {
                                        "name": "Összes sor db"
                                    },
                                    {
                                        "name": "SORSZAM null db"
                                    },
                                    {
                                        "name": "LOGIN null db"
                                    },
                                    {
                                        "name": "REND_DATUM null db"
                                    },
                                    {
                                        "name": "SZALL_DATUM null db"
                                    },
                                    {
                                        "name": "SZALL_CIM null db"
                                    },
                                    {
                                        "name": "SZALL_MOD null db"
                                    },
                                    {
                                        "name": "FIZ_MOD null db"
                                    },
                                    {
                                        "name": "SZAMLA_CIM null db"
                                    }
                                ]
                            },
                            "data": [
                                {
                                    "Összes sor db": "28085",
                                    "SORSZAM null db": "0",
                                    "LOGIN null db": "0",
                                    "REND_DATUM null db": "0",
                                    "SZALL_DATUM null db": "0",
                                    "SZALL_CIM null db": "21689",
                                    "SZALL_MOD null db": "0",
                                    "FIZ_MOD null db": "0",
                                    "SZAMLA_CIM null db": "25535"
                                }
                            ]
                        },
                        "text/html": [
                            "<table>",
                            "<tr><th>Összes sor db</th><th>SORSZAM null db</th><th>LOGIN null db</th><th>REND_DATUM null db</th><th>SZALL_DATUM null db</th><th>SZALL_CIM null db</th><th>SZALL_MOD null db</th><th>FIZ_MOD null db</th><th>SZAMLA_CIM null db</th></tr>",
                            "<tr><td>28085</td><td>0</td><td>0</td><td>0</td><td>0</td><td>21689</td><td>0</td><td>0</td><td>25535</td></tr>",
                            "</table>"
                        ]
                    }
                }
            ],
            "execution_count": 70
        },
        {
            "cell_type": "markdown",
            "source": [
                "Mivel csak a SZALL\\_CIM és SZAMLA\\_CIM oszlopokban voltak null értékek, ezért itt megnézem ezeknek a százalékos arányát is."
            ],
            "metadata": {
                "azdata_cell_guid": "afbef950-4dab-454f-8529-aaf14bcf6b4c"
            },
            "attachments": {}
        },
        {
            "cell_type": "code",
            "source": [
                "SELECT \r\n",
                "    ROUND((SUM(IIF(SZALL_CIM IS NULL, 1, 0))*100.0/ COUNT(*)) ,2) AS 'SZALL_CIM százalékos aránya',\r\n",
                "    ROUND((SUM(IIF(SZAMLA_CIM IS NULL, 1, 0)) * 100.0 / COUNT(*)),2) AS 'SZAMLA_CIM százalékos aránya'\r\n",
                "FROM Rendeles"
            ],
            "metadata": {
                "azdata_cell_guid": "12ad9e7f-144a-4aa9-8892-ec5f9f844146",
                "language": "sql",
                "tags": []
            },
            "outputs": [
                {
                    "output_type": "display_data",
                    "data": {
                        "text/html": "(1 row affected)"
                    },
                    "metadata": {}
                },
                {
                    "output_type": "display_data",
                    "data": {
                        "text/html": "Total execution time: 00:00:02.900"
                    },
                    "metadata": {}
                },
                {
                    "output_type": "execute_result",
                    "metadata": {},
                    "execution_count": 71,
                    "data": {
                        "application/vnd.dataresource+json": {
                            "schema": {
                                "fields": [
                                    {
                                        "name": "SZALL_CIM százalékos aránya"
                                    },
                                    {
                                        "name": "SZAMLA_CIM százalékos aránya"
                                    }
                                ]
                            },
                            "data": [
                                {
                                    "SZALL_CIM százalékos aránya": "77.230000000000",
                                    "SZAMLA_CIM százalékos aránya": "90.920000000000"
                                }
                            ]
                        },
                        "text/html": [
                            "<table>",
                            "<tr><th>SZALL_CIM százalékos aránya</th><th>SZAMLA_CIM százalékos aránya</th></tr>",
                            "<tr><td>77.230000000000</td><td>90.920000000000</td></tr>",
                            "</table>"
                        ]
                    }
                }
            ],
            "execution_count": 71
        },
        {
            "cell_type": "markdown",
            "source": [
                "A null értékek eloszlásáról készítettem excel diagrammokat is.\n",
                "\n",
                "![](data:image/png;base64,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)   ![](data:image/png;base64,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)"
            ],
            "metadata": {
                "azdata_cell_guid": "e881d5b1-a3dd-49f4-96ec-bf6a3fcbd630"
            },
            "attachments": {}
        },
        {
            "cell_type": "markdown",
            "source": [
                "A rendelési és szállítási dátumok alapján megnézem a fontosabb minimum, maximum és átlag értékeket."
            ],
            "metadata": {
                "azdata_cell_guid": "76b928a6-909c-4240-9117-840fa4ec72eb"
            },
            "attachments": {}
        },
        {
            "cell_type": "code",
            "source": [
                "SELECT \r\n",
                "    MIN(REND_DATUM) AS 'Min. rendelési dátum',\r\n",
                "    MAX(REND_DATUM) AS 'Max. rendelési dátum',\r\n",
                "    MIN(SZALL_DATUM) AS 'Min. szállítási dátum',\r\n",
                "    MAX(SZALL_DATUM) AS 'Max. szállítási dátum',\r\n",
                "    CAST(AVG(DATEDIFF(day, REND_DATUM, SZALL_DATUM)) as nvarchar(20)) + ' nap' AS 'Átlagos szállítási idő',\r\n",
                "    CAST(MIN(DATEDIFF(day, REND_DATUM, SZALL_DATUM)) as nvarchar(20)) + ' nap' AS 'Leggyorsabb szállítási idő',\r\n",
                "    CAST(MAX(DATEDIFF(day, REND_DATUM, SZALL_DATUM)) as nvarchar(20)) + ' nap' AS 'Leglassabb szállítási idő'\r\n",
                "FROM Rendeles"
            ],
            "metadata": {
                "azdata_cell_guid": "a0e6b139-0d70-4ada-806a-4cac4b95a422",
                "language": "sql",
                "tags": []
            },
            "outputs": [
                {
                    "output_type": "display_data",
                    "data": {
                        "text/html": "(1 row affected)"
                    },
                    "metadata": {}
                },
                {
                    "output_type": "display_data",
                    "data": {
                        "text/html": "Total execution time: 00:00:00.040"
                    },
                    "metadata": {}
                },
                {
                    "output_type": "execute_result",
                    "metadata": {},
                    "execution_count": 72,
                    "data": {
                        "application/vnd.dataresource+json": {
                            "schema": {
                                "fields": [
                                    {
                                        "name": "Min. rendelési dátum"
                                    },
                                    {
                                        "name": "Max. rendelési dátum"
                                    },
                                    {
                                        "name": "Min. szállítási dátum"
                                    },
                                    {
                                        "name": "Max. szállítási dátum"
                                    },
                                    {
                                        "name": "Átlagos szállítási idő"
                                    },
                                    {
                                        "name": "Leggyorsabb szállítási idő"
                                    },
                                    {
                                        "name": "Leglassabb szállítási idő"
                                    }
                                ]
                            },
                            "data": [
                                {
                                    "Min. rendelési dátum": "2015-05-01",
                                    "Max. rendelési dátum": "2017-04-01",
                                    "Min. szállítási dátum": "2015-05-03",
                                    "Max. szállítási dátum": "2017-04-11",
                                    "Átlagos szállítási idő": "5 nap",
                                    "Leggyorsabb szállítási idő": "2 nap",
                                    "Leglassabb szállítási idő": "10 nap"
                                }
                            ]
                        },
                        "text/html": [
                            "<table>",
                            "<tr><th>Min. rendelési dátum</th><th>Max. rendelési dátum</th><th>Min. szállítási dátum</th><th>Max. szállítási dátum</th><th>Átlagos szállítási idő</th><th>Leggyorsabb szállítási idő</th><th>Leglassabb szállítási idő</th></tr>",
                            "<tr><td>2015-05-01</td><td>2017-04-01</td><td>2015-05-03</td><td>2017-04-11</td><td>5 nap</td><td>2 nap</td><td>10 nap</td></tr>",
                            "</table>"
                        ]
                    }
                }
            ],
            "execution_count": 72
        },
        {
            "cell_type": "markdown",
            "source": [
                "A szállítási módok szerinti eloszlásban is megvizsgálom az átlagos szállítási időt"
            ],
            "metadata": {
                "azdata_cell_guid": "c0ed121e-59a1-4a05-8e9f-74fa94d24efa"
            },
            "attachments": {}
        },
        {
            "cell_type": "code",
            "source": [
                "SELECT \r\n",
                "    SZALL_MOD AS 'Szállítási mód',\r\n",
                "    CAST(AVG(DATEDIFF(day, REND_DATUM, SZALL_DATUM)) as nvarchar(20)) + ' nap' AS 'Átlagos szállítási idő'\r\n",
                "FROM Rendeles\r\n",
                "GROUP BY SZALL_MOD"
            ],
            "metadata": {
                "azdata_cell_guid": "5c9a4582-193d-44ea-b28e-0ac52f7a8a37",
                "language": "sql"
            },
            "outputs": [
                {
                    "output_type": "display_data",
                    "data": {
                        "text/html": "(3 rows affected)"
                    },
                    "metadata": {}
                },
                {
                    "output_type": "display_data",
                    "data": {
                        "text/html": "Total execution time: 00:00:00.031"
                    },
                    "metadata": {}
                },
                {
                    "output_type": "execute_result",
                    "metadata": {},
                    "execution_count": 73,
                    "data": {
                        "application/vnd.dataresource+json": {
                            "schema": {
                                "fields": [
                                    {
                                        "name": "Szállítási mód"
                                    },
                                    {
                                        "name": "Átlagos szállítási idő"
                                    }
                                ]
                            },
                            "data": [
                                {
                                    "Szállítási mód": "GLS",
                                    "Átlagos szállítási idő": "6 nap"
                                },
                                {
                                    "Szállítási mód": "Személyes átvétel",
                                    "Átlagos szállítási idő": "5 nap"
                                },
                                {
                                    "Szállítási mód": "Posta",
                                    "Átlagos szállítási idő": "5 nap"
                                }
                            ]
                        },
                        "text/html": [
                            "<table>",
                            "<tr><th>Szállítási mód</th><th>Átlagos szállítási idő</th></tr>",
                            "<tr><td>GLS</td><td>6 nap</td></tr>",
                            "<tr><td>Személyes átvétel</td><td>5 nap</td></tr>",
                            "<tr><td>Posta</td><td>5 nap</td></tr>",
                            "</table>"
                        ]
                    }
                }
            ],
            "execution_count": 73
        },
        {
            "cell_type": "markdown",
            "source": [
                "Itt látható az átlagos szállítási idő napokban szállítási módonként.\n",
                "\n",
                "![](data:image/png;base64,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)"
            ],
            "metadata": {
                "azdata_cell_guid": "868c0184-e687-42c1-8cf2-b237af0a53d0"
            },
            "attachments": {}
        },
        {
            "cell_type": "markdown",
            "source": [
                "Megnézem a rendelések darabszámát a fizetési és szállítási módok szerint csoportosítva."
            ],
            "metadata": {
                "azdata_cell_guid": "3f344774-ea57-4896-8ca7-86e5351d6b18"
            },
            "attachments": {}
        },
        {
            "cell_type": "code",
            "source": [
                "SELECT \r\n",
                "    IIF(FIZ_MOD IS NULL, 'Összesített fiz. mód', FIZ_MOD) AS 'Fizetési mód',\r\n",
                "    IIF(SZALL_MOD IS NULL, 'Összesített száll. mód', SZALL_MOD) AS 'Szállítási mód',\r\n",
                "    COUNT(*) AS 'Rendelés db'\r\n",
                "FROM Rendeles\r\n",
                "GROUP BY ROLLUP(FIZ_MOD, SZALL_MOD)"
            ],
            "metadata": {
                "azdata_cell_guid": "a9f73ecd-82d0-40b1-953d-dc17aa307c8e",
                "language": "sql",
                "tags": []
            },
            "outputs": [
                {
                    "output_type": "display_data",
                    "data": {
                        "text/html": "(13 rows affected)"
                    },
                    "metadata": {}
                },
                {
                    "output_type": "display_data",
                    "data": {
                        "text/html": "Total execution time: 00:00:00.040"
                    },
                    "metadata": {}
                },
                {
                    "output_type": "execute_result",
                    "metadata": {},
                    "execution_count": 74,
                    "data": {
                        "application/vnd.dataresource+json": {
                            "schema": {
                                "fields": [
                                    {
                                        "name": "Fizetési mód"
                                    },
                                    {
                                        "name": "Szállítási mód"
                                    },
                                    {
                                        "name": "Rendelés db"
                                    }
                                ]
                            },
                            "data": [
                                {
                                    "Fizetési mód": "Átutalás",
                                    "Szállítási mód": "GLS",
                                    "Rendelés db": "3777"
                                },
                                {
                                    "Fizetési mód": "Átutalás",
                                    "Szállítási mód": "Posta",
                                    "Rendelés db": "3709"
                                },
                                {
                                    "Fizetési mód": "Átutalás",
                                    "Szállítási mód": "Személyes átvétel",
                                    "Rendelés db": "3798"
                                },
                                {
                                    "Fizetési mód": "Átutalás",
                                    "Szállítási mód": "Összesített száll. mód",
                                    "Rendelés db": "11284"
                                },
                                {
                                    "Fizetési mód": "Bankkártya",
                                    "Szállítási mód": "GLS",
                                    "Rendelés db": "4701"
                                },
                                {
                                    "Fizetési mód": "Bankkártya",
                                    "Szállítási mód": "Posta",
                                    "Rendelés db": "4607"
                                },
                                {
                                    "Fizetési mód": "Bankkártya",
                                    "Szállítási mód": "Személyes átvétel",
                                    "Rendelés db": "4695"
                                },
                                {
                                    "Fizetési mód": "Bankkártya",
                                    "Szállítási mód": "Összesített száll. mód",
                                    "Rendelés db": "14003"
                                },
                                {
                                    "Fizetési mód": "Készpénz",
                                    "Szállítási mód": "GLS",
                                    "Rendelés db": "948"
                                },
                                {
                                    "Fizetési mód": "Készpénz",
                                    "Szállítási mód": "Posta",
                                    "Rendelés db": "875"
                                },
                                {
                                    "Fizetési mód": "Készpénz",
                                    "Szállítási mód": "Személyes átvétel",
                                    "Rendelés db": "975"
                                },
                                {
                                    "Fizetési mód": "Készpénz",
                                    "Szállítási mód": "Összesített száll. mód",
                                    "Rendelés db": "2798"
                                },
                                {
                                    "Fizetési mód": "Összesített fiz. mód",
                                    "Szállítási mód": "Összesített száll. mód",
                                    "Rendelés db": "28085"
                                }
                            ]
                        },
                        "text/html": [
                            "<table>",
                            "<tr><th>Fizetési mód</th><th>Szállítási mód</th><th>Rendelés db</th></tr>",
                            "<tr><td>Átutalás</td><td>GLS</td><td>3777</td></tr>",
                            "<tr><td>Átutalás</td><td>Posta</td><td>3709</td></tr>",
                            "<tr><td>Átutalás</td><td>Személyes átvétel</td><td>3798</td></tr>",
                            "<tr><td>Átutalás</td><td>Összesített száll. mód</td><td>11284</td></tr>",
                            "<tr><td>Bankkártya</td><td>GLS</td><td>4701</td></tr>",
                            "<tr><td>Bankkártya</td><td>Posta</td><td>4607</td></tr>",
                            "<tr><td>Bankkártya</td><td>Személyes átvétel</td><td>4695</td></tr>",
                            "<tr><td>Bankkártya</td><td>Összesített száll. mód</td><td>14003</td></tr>",
                            "<tr><td>Készpénz</td><td>GLS</td><td>948</td></tr>",
                            "<tr><td>Készpénz</td><td>Posta</td><td>875</td></tr>",
                            "<tr><td>Készpénz</td><td>Személyes átvétel</td><td>975</td></tr>",
                            "<tr><td>Készpénz</td><td>Összesített száll. mód</td><td>2798</td></tr>",
                            "<tr><td>Összesített fiz. mód</td><td>Összesített száll. mód</td><td>28085</td></tr>",
                            "</table>"
                        ]
                    }
                }
            ],
            "execution_count": 74
        },
        {
            "cell_type": "markdown",
            "source": [
                "Itt megnézem egy-egy szálítási cím hányszor szerepel a táblázatban."
            ],
            "metadata": {
                "azdata_cell_guid": "602df7ed-6372-47f5-a003-0ebdbca768f4"
            },
            "attachments": {}
        },
        {
            "cell_type": "code",
            "source": [
                "SELECT IIF(SZALL_CIM IS NULL, 'Összesen', SZALL_CIM) AS 'Cím',\r\n",
                "       COUNT(*) AS 'Darabszám'\r\n",
                "FROM Rendeles\r\n",
                "WHERE SZALL_CIM IS NOT NULL\r\n",
                "GROUP BY ROLLUP(SZALL_CIM)\r\n",
                "ORDER BY 2 DESC"
            ],
            "metadata": {
                "azdata_cell_guid": "c6a23720-2dce-4c78-8034-69406e8772a4",
                "language": "sql",
                "tags": []
            },
            "outputs": [
                {
                    "output_type": "display_data",
                    "data": {
                        "text/html": "(300 rows affected)"
                    },
                    "metadata": {}
                },
                {
                    "output_type": "display_data",
                    "data": {
                        "text/html": "Total execution time: 00:00:00.032"
                    },
                    "metadata": {}
                },
                {
                    "output_type": "execute_result",
                    "metadata": {},
                    "execution_count": 76,
                    "data": {
                        "application/vnd.dataresource+json": {
                            "schema": {
                                "fields": [
                                    {
                                        "name": "Cím"
                                    },
                                    {
                                        "name": "Darabszám"
                                    }
                                ]
                            },
                            "data": [
                                {
                                    "Cím": "Összesen",
                                    "Darabszám": "6396"
                                },
                                {
                                    "Cím": "Budapest, Fő u. 2.",
                                    "Darabszám": "303"
                                },
                                {
                                    "Cím": "Budapest, Kiss u. 32.",
                                    "Darabszám": "215"
                                },
                                {
                                    "Cím": "Győr, Fő u. 2.",
                                    "Darabszám": "154"
                                },
                                {
                                    "Cím": "Budapest, Nagy u.14.",
                                    "Darabszám": "131"
                                },
                                {
                                    "Cím": "Jászkisér, Fő u. 2.",
                                    "Darabszám": "123"
                                },
                                {
                                    "Cím": "Győr, Kiss u. 32.",
                                    "Darabszám": "93"
                                },
                                {
                                    "Cím": "Törökszentmiklós, Fő u. 2.",
                                    "Darabszám": "90"
                                },
                                {
                                    "Cím": "Ruzsa, Fő u. 2.",
                                    "Darabszám": "81"
                                },
                                {
                                    "Cím": "Jászkisér, Kiss u. 32.",
                                    "Darabszám": "76"
                                },
                                {
                                    "Cím": "Ruzsa, Kiss u. 32.",
                                    "Darabszám": "70"
                                },
                                {
                                    "Cím": "Jászkisér, Nagy u.14.",
                                    "Darabszám": "67"
                                },
                                {
                                    "Cím": "Zsadány, Fő u. 2.",
                                    "Darabszám": "64"
                                },
                                {
                                    "Cím": "Tömörkény, Fő u. 2.",
                                    "Darabszám": "63"
                                },
                                {
                                    "Cím": "Agárd, Fő u. 2.",
                                    "Darabszám": "61"
                                },
                                {
                                    "Cím": "Kimle, Fő u. 2.",
                                    "Darabszám": "58"
                                },
                                {
                                    "Cím": "Gödöllő, Fő u. 2.",
                                    "Darabszám": "58"
                                },
                                {
                                    "Cím": "Nagyszénás, Fő u. 2.",
                                    "Darabszám": "57"
                                },
                                {
                                    "Cím": "Kistelek, Fő u. 2.",
                                    "Darabszám": "56"
                                },
                                {
                                    "Cím": "Besenyszög, Fő u. 2.",
                                    "Darabszám": "56"
                                },
                                {
                                    "Cím": "Albertirsa, Fő u. 2.",
                                    "Darabszám": "55"
                                },
                                {
                                    "Cím": "Ráckeve, Fő u. 2.",
                                    "Darabszám": "55"
                                },
                                {
                                    "Cím": "Sellye, Fő u. 2.",
                                    "Darabszám": "54"
                                },
                                {
                                    "Cím": "Csorvás, Fő u. 2.",
                                    "Darabszám": "54"
                                },
                                {
                                    "Cím": "Előszállás, Fő u. 2.",
                                    "Darabszám": "54"
                                },
                                {
                                    "Cím": "Dédestapolcsány, Fő u. 2.",
                                    "Darabszám": "53"
                                },
                                {
                                    "Cím": "Nyíregyháza, Fő u. 2.",
                                    "Darabszám": "53"
                                },
                                {
                                    "Cím": "Szabadszállás, Fő u. 2.",
                                    "Darabszám": "52"
                                },
                                {
                                    "Cím": "Szigetvár, Fő u. 2.",
                                    "Darabszám": "52"
                                },
                                {
                                    "Cím": "Törökszentmiklós, Kiss u. 32.",
                                    "Darabszám": "51"
                                },
                                {
                                    "Cím": "Veszprém, Fő u. 2.",
                                    "Darabszám": "51"
                                },
                                {
                                    "Cím": "Cegléd, Fő u. 2.",
                                    "Darabszám": "51"
                                },
                                {
                                    "Cím": "Bokod, Fő u. 2.",
                                    "Darabszám": "51"
                                },
                                {
                                    "Cím": "Szeged, Fő u. 2.",
                                    "Darabszám": "50"
                                },
                                {
                                    "Cím": "Ruzsa, Nagy u.14.",
                                    "Darabszám": "49"
                                },
                                {
                                    "Cím": "Kisújszállás, Fő u. 2.",
                                    "Darabszám": "49"
                                },
                                {
                                    "Cím": "Lébény, Fő u. 2.",
                                    "Darabszám": "49"
                                },
                                {
                                    "Cím": "Répcelak, Fő u. 2.",
                                    "Darabszám": "48"
                                },
                                {
                                    "Cím": "Nagykörű, Fő u. 2.",
                                    "Darabszám": "47"
                                },
                                {
                                    "Cím": "Tiszaújváros, Fő u. 2.",
                                    "Darabszám": "47"
                                },
                                {
                                    "Cím": "Győr, Nagy u.14.",
                                    "Darabszám": "47"
                                },
                                {
                                    "Cím": "Lajosmizse, Fő u. 2.",
                                    "Darabszám": "45"
                                },
                                {
                                    "Cím": "Cigánd, Fő u. 2.",
                                    "Darabszám": "45"
                                },
                                {
                                    "Cím": "Bácsalmás, Fő u. 2.",
                                    "Darabszám": "45"
                                },
                                {
                                    "Cím": "Balatongyörök, Fő u. 2.",
                                    "Darabszám": "45"
                                },
                                {
                                    "Cím": "Tiszasüly, Fő u. 2.",
                                    "Darabszám": "45"
                                },
                                {
                                    "Cím": "Ozora, Fő u. 2.",
                                    "Darabszám": "45"
                                },
                                {
                                    "Cím": "Csanádpalota, Fő u. 2.",
                                    "Darabszám": "44"
                                },
                                {
                                    "Cím": "Báta, Fő u. 2.",
                                    "Darabszám": "44"
                                },
                                {
                                    "Cím": "Tiszavasvári, Fő u. 2.",
                                    "Darabszám": "43"
                                },
                                {
                                    "Cím": "Pilisvörösvár, Fő u. 2.",
                                    "Darabszám": "42"
                                },
                                {
                                    "Cím": "Martonvásár, Fő u. 2.",
                                    "Darabszám": "41"
                                },
                                {
                                    "Cím": "Répcelak, Kiss u. 32.",
                                    "Darabszám": "41"
                                },
                                {
                                    "Cím": "Újfehértó, Fő u. 2.",
                                    "Darabszám": "41"
                                },
                                {
                                    "Cím": "Balmazújváros, Fő u. 2.",
                                    "Darabszám": "41"
                                },
                                {
                                    "Cím": "Magyarszék, Fő u. 2.",
                                    "Darabszám": "41"
                                },
                                {
                                    "Cím": "Fadd, Fő u. 2.",
                                    "Darabszám": "40"
                                },
                                {
                                    "Cím": "Gödöllő, Kiss u. 32.",
                                    "Darabszám": "39"
                                },
                                {
                                    "Cím": "Balatongyörök, Kiss u. 32.",
                                    "Darabszám": "39"
                                },
                                {
                                    "Cím": "Bököny, Fő u. 2.",
                                    "Darabszám": "39"
                                },
                                {
                                    "Cím": "Sülysáp, Fő u. 2.",
                                    "Darabszám": "39"
                                },
                                {
                                    "Cím": "Szentendre, Fő u. 2.",
                                    "Darabszám": "38"
                                },
                                {
                                    "Cím": "Lébény, Kiss u. 32.",
                                    "Darabszám": "36"
                                },
                                {
                                    "Cím": "Kisújszállás, Kiss u. 32.",
                                    "Darabszám": "35"
                                },
                                {
                                    "Cím": "Besenyszög, Kiss u. 32.",
                                    "Darabszám": "35"
                                },
                                {
                                    "Cím": "Nyíregyháza, Kiss u. 32.",
                                    "Darabszám": "35"
                                },
                                {
                                    "Cím": "Albertirsa, Nagy u.14.",
                                    "Darabszám": "34"
                                },
                                {
                                    "Cím": "Békés, Fő u. 2.",
                                    "Darabszám": "33"
                                },
                                {
                                    "Cím": "Bokod, Kiss u. 32.",
                                    "Darabszám": "33"
                                },
                                {
                                    "Cím": "Dédestapolcsány, Kiss u. 32.",
                                    "Darabszám": "33"
                                },
                                {
                                    "Cím": "Ozora, Kiss u. 32.",
                                    "Darabszám": "33"
                                },
                                {
                                    "Cím": "Törökszentmiklós, Nagy u.14.",
                                    "Darabszám": "33"
                                },
                                {
                                    "Cím": "Tömörkény, Kiss u. 32.",
                                    "Darabszám": "33"
                                },
                                {
                                    "Cím": "Szeged, Kiss u. 32.",
                                    "Darabszám": "32"
                                },
                                {
                                    "Cím": "Cegléd, Kiss u. 32.",
                                    "Darabszám": "32"
                                },
                                {
                                    "Cím": "Csorvás, Kiss u. 32.",
                                    "Darabszám": "31"
                                },
                                {
                                    "Cím": "Cigánd, Kiss u. 32.",
                                    "Darabszám": "31"
                                },
                                {
                                    "Cím": "Balmazújváros, Nagy u.14.",
                                    "Darabszám": "31"
                                },
                                {
                                    "Cím": "Veszprém, Kiss u. 32.",
                                    "Darabszám": "31"
                                },
                                {
                                    "Cím": "Ráckeve, Kiss u. 32.",
                                    "Darabszám": "31"
                                },
                                {
                                    "Cím": "Nagykörű, Kiss u. 32.",
                                    "Darabszám": "30"
                                },
                                {
                                    "Cím": "Tiszavasvári, Kiss u. 32.",
                                    "Darabszám": "30"
                                },
                                {
                                    "Cím": "Albertirsa, Kiss u. 32.",
                                    "Darabszám": "30"
                                },
                                {
                                    "Cím": "Békés, Kiss u. 32.",
                                    "Darabszám": "30"
                                },
                                {
                                    "Cím": "Báta, Kiss u. 32.",
                                    "Darabszám": "30"
                                },
                                {
                                    "Cím": "Magyarszék, Kiss u. 32.",
                                    "Darabszám": "30"
                                },
                                {
                                    "Cím": "Kimle, Kiss u. 32.",
                                    "Darabszám": "30"
                                },
                                {
                                    "Cím": "Előszállás, Kiss u. 32.",
                                    "Darabszám": "29"
                                },
                                {
                                    "Cím": "Szekszárd, Fő u. 2.",
                                    "Darabszám": "29"
                                },
                                {
                                    "Cím": "Tömörkény, Nagy u.14.",
                                    "Darabszám": "29"
                                },
                                {
                                    "Cím": "Agárd, Nagy u.14.",
                                    "Darabszám": "28"
                                },
                                {
                                    "Cím": "Fadd, Kiss u. 32.",
                                    "Darabszám": "27"
                                },
                                {
                                    "Cím": "Besenyszög, Nagy u.14.",
                                    "Darabszám": "27"
                                },
                                {
                                    "Cím": "Cegléd, Nagy u.14.",
                                    "Darabszám": "27"
                                },
                                {
                                    "Cím": "Agárd, Kiss u. 32.",
                                    "Darabszám": "27"
                                },
                                {
                                    "Cím": "Bököny, Kiss u. 32.",
                                    "Darabszám": "26"
                                },
                                {
                                    "Cím": "Lajosmizse, Kiss u. 32.",
                                    "Darabszám": "26"
                                },
                                {
                                    "Cím": "Pilisvörösvár, Kiss u. 32.",
                                    "Darabszám": "26"
                                },
                                {
                                    "Cím": "Sülysáp, Kiss u. 32.",
                                    "Darabszám": "26"
                                },
                                {
                                    "Cím": "Szabadszállás, Nagy u.14.",
                                    "Darabszám": "26"
                                },
                                {
                                    "Cím": "Ozora, Nagy u.14.",
                                    "Darabszám": "25"
                                },
                                {
                                    "Cím": "Nagyszénás, Nagy u.14.",
                                    "Darabszám": "25"
                                },
                                {
                                    "Cím": "Zsadány, Kiss u. 32.",
                                    "Darabszám": "25"
                                },
                                {
                                    "Cím": "Szigetvár, Kiss u. 32.",
                                    "Darabszám": "25"
                                },
                                {
                                    "Cím": "Tiszavasvári, Nagy u.14.",
                                    "Darabszám": "25"
                                },
                                {
                                    "Cím": "Tiszasüly, Nagy u.14.",
                                    "Darabszám": "25"
                                },
                                {
                                    "Cím": "Kistelek, Kiss u. 32.",
                                    "Darabszám": "25"
                                },
                                {
                                    "Cím": "Csanádpalota, Kiss u. 32.",
                                    "Darabszám": "25"
                                },
                                {
                                    "Cím": "Csanádpalota, Nagy u.14.",
                                    "Darabszám": "25"
                                },
                                {
                                    "Cím": "Csorvás, Nagy u.14.",
                                    "Darabszám": "25"
                                },
                                {
                                    "Cím": "Bácsalmás, Kiss u. 32.",
                                    "Darabszám": "24"
                                },
                                {
                                    "Cím": "Balmazújváros, Kiss u. 32.",
                                    "Darabszám": "24"
                                },
                                {
                                    "Cím": "Lajosmizse, Nagy u.14.",
                                    "Darabszám": "24"
                                },
                                {
                                    "Cím": "Szigetvár, Nagy u.14.",
                                    "Darabszám": "24"
                                },
                                {
                                    "Cím": "Szentendre, Kiss u. 32.",
                                    "Darabszám": "24"
                                },
                                {
                                    "Cím": "Szentendre, Nagy u.14.",
                                    "Darabszám": "24"
                                },
                                {
                                    "Cím": "Nyíregyháza, Nagy u.14.",
                                    "Darabszám": "24"
                                },
                                {
                                    "Cím": "Pilisvörösvár, Nagy u.14.",
                                    "Darabszám": "24"
                                },
                                {
                                    "Cím": "Szabadszállás, Kiss u. 32.",
                                    "Darabszám": "24"
                                },
                                {
                                    "Cím": "Lébény, Nagy u.14.",
                                    "Darabszám": "23"
                                },
                                {
                                    "Cím": "Bácsalmás, Nagy u.14.",
                                    "Darabszám": "23"
                                },
                                {
                                    "Cím": "Bököny, Nagy u.14.",
                                    "Darabszám": "22"
                                },
                                {
                                    "Cím": "Békés, Nagy u.14.",
                                    "Darabszám": "22"
                                },
                                {
                                    "Cím": "Sellye, Kiss u. 32.",
                                    "Darabszám": "22"
                                },
                                {
                                    "Cím": "Nagyszénás, Kiss u. 32.",
                                    "Darabszám": "22"
                                },
                                {
                                    "Cím": "Martonvásár, Nagy u.14.",
                                    "Darabszám": "22"
                                },
                                {
                                    "Cím": "Tiszasüly, Kiss u. 32.",
                                    "Darabszám": "22"
                                },
                                {
                                    "Cím": "Martonvásár, Kiss u. 32.",
                                    "Darabszám": "21"
                                },
                                {
                                    "Cím": "Kistelek, Nagy u.14.",
                                    "Darabszám": "20"
                                },
                                {
                                    "Cím": "Kimle, Nagy u.14.",
                                    "Darabszám": "20"
                                },
                                {
                                    "Cím": "Magyarszék, Nagy u.14.",
                                    "Darabszám": "19"
                                },
                                {
                                    "Cím": "Előszállás, Nagy u.14.",
                                    "Darabszám": "19"
                                },
                                {
                                    "Cím": "Bokod, Nagy u.14.",
                                    "Darabszám": "19"
                                },
                                {
                                    "Cím": "Tiszaújváros, Nagy u.14.",
                                    "Darabszám": "19"
                                },
                                {
                                    "Cím": "Zsadány, Nagy u.14.",
                                    "Darabszám": "18"
                                },
                                {
                                    "Cím": "Gödöllő, Nagy u.14.",
                                    "Darabszám": "18"
                                },
                                {
                                    "Cím": "Kisújszállás, Nagy u.14.",
                                    "Darabszám": "18"
                                },
                                {
                                    "Cím": "Báta, Nagy u.14.",
                                    "Darabszám": "17"
                                },
                                {
                                    "Cím": "Újfehértó, Nagy u.14.",
                                    "Darabszám": "17"
                                },
                                {
                                    "Cím": "Tiszaújváros, Kiss u. 32.",
                                    "Darabszám": "17"
                                },
                                {
                                    "Cím": "Szekszárd, Kiss u. 32.",
                                    "Darabszám": "17"
                                },
                                {
                                    "Cím": "Répcelak, Nagy u.14.",
                                    "Darabszám": "17"
                                },
                                {
                                    "Cím": "Szeged, Nagy u.14.",
                                    "Darabszám": "16"
                                },
                                {
                                    "Cím": "Fadd, Nagy u.14.",
                                    "Darabszám": "16"
                                },
                                {
                                    "Cím": "Cigánd, Nagy u.14.",
                                    "Darabszám": "15"
                                },
                                {
                                    "Cím": "Balatongyörök, Nagy u.14.",
                                    "Darabszám": "15"
                                },
                                {
                                    "Cím": "Újfehértó, Kiss u. 32.",
                                    "Darabszám": "15"
                                },
                                {
                                    "Cím": "Sármellék, Fő u. 2.",
                                    "Darabszám": "15"
                                },
                                {
                                    "Cím": "Sellye, Nagy u.14.",
                                    "Darabszám": "15"
                                },
                                {
                                    "Cím": "Sülysáp, Nagy u.14.",
                                    "Darabszám": "15"
                                },
                                {
                                    "Cím": "Nagykörű, Nagy u.14.",
                                    "Darabszám": "14"
                                },
                                {
                                    "Cím": "Ráckeve, Nagy u.14.",
                                    "Darabszám": "14"
                                },
                                {
                                    "Cím": "Veszprém, Nagy u.14.",
                                    "Darabszám": "14"
                                },
                                {
                                    "Cím": "Dédestapolcsány, Nagy u.14.",
                                    "Darabszám": "14"
                                },
                                {
                                    "Cím": "Szekszárd, Nagy u.14.",
                                    "Darabszám": "13"
                                },
                                {
                                    "Cím": "Kővágóörs, Fő u. 2.",
                                    "Darabszám": "6"
                                },
                                {
                                    "Cím": "Herceghalom, Fő u. 2.",
                                    "Darabszám": "6"
                                },
                                {
                                    "Cím": "Káptalantóti, Kiss u. 32.",
                                    "Darabszám": "5"
                                },
                                {
                                    "Cím": "Kővágóörs, Kiss u. 32.",
                                    "Darabszám": "5"
                                },
                                {
                                    "Cím": "Dabas, Fő u. 2.",
                                    "Darabszám": "5"
                                },
                                {
                                    "Cím": "Biharnagybajom, Kiss u. 32.",
                                    "Darabszám": "5"
                                },
                                {
                                    "Cím": "Balotaszállás, Fő u. 2.",
                                    "Darabszám": "5"
                                },
                                {
                                    "Cím": "Vác, Fő u. 2.",
                                    "Darabszám": "5"
                                },
                                {
                                    "Cím": "Vácszentlászló, Kiss u. 32.",
                                    "Darabszám": "4"
                                },
                                {
                                    "Cím": "Vésztő, Fő u. 2.",
                                    "Darabszám": "4"
                                },
                                {
                                    "Cím": "Tolna, Fő u. 2.",
                                    "Darabszám": "4"
                                },
                                {
                                    "Cím": "Tokaj, Kiss u. 32.",
                                    "Darabszám": "4"
                                },
                                {
                                    "Cím": "Sármellék, Kiss u. 32.",
                                    "Darabszám": "4"
                                },
                                {
                                    "Cím": "Sarkad, Fő u. 2.",
                                    "Darabszám": "4"
                                },
                                {
                                    "Cím": "Sándorfalva, Kiss u. 32.",
                                    "Darabszám": "4"
                                },
                                {
                                    "Cím": "Balatonboglár, Fő u. 2.",
                                    "Darabszám": "4"
                                },
                                {
                                    "Cím": "Kővágóörs, Nagy u.14.",
                                    "Darabszám": "4"
                                },
                                {
                                    "Cím": "Isaszeg, Fő u. 2.",
                                    "Darabszám": "4"
                                },
                                {
                                    "Cím": "Egyek, Kiss u. 32.",
                                    "Darabszám": "4"
                                },
                                {
                                    "Cím": "Egyek, Nagy u.14.",
                                    "Darabszám": "3"
                                },
                                {
                                    "Cím": "Dunaharaszti, Kiss u. 32.",
                                    "Darabszám": "3"
                                },
                                {
                                    "Cím": "Edelény, Fő u. 2.",
                                    "Darabszám": "3"
                                },
                                {
                                    "Cím": "Fonyód, Nagy u.14.",
                                    "Darabszám": "3"
                                },
                                {
                                    "Cím": "Görbeháza, Fő u. 2.",
                                    "Darabszám": "3"
                                },
                                {
                                    "Cím": "Göd, Fő u. 2.",
                                    "Darabszám": "3"
                                },
                                {
                                    "Cím": "Kisvárda, Fő u. 2.",
                                    "Darabszám": "3"
                                },
                                {
                                    "Cím": "Cserkeszőlő, Fő u. 2.",
                                    "Darabszám": "3"
                                },
                                {
                                    "Cím": "Sándorfalva, Fő u. 2.",
                                    "Darabszám": "3"
                                },
                                {
                                    "Cím": "Sarkad, Nagy u.14.",
                                    "Darabszám": "3"
                                },
                                {
                                    "Cím": "Ötvöskónyi, Kiss u. 32.",
                                    "Darabszám": "3"
                                },
                                {
                                    "Cím": "Örkény, Fő u. 2.",
                                    "Darabszám": "3"
                                },
                                {
                                    "Cím": "Tokodaltáró, Kiss u. 32.",
                                    "Darabszám": "3"
                                },
                                {
                                    "Cím": "Tolna, Nagy u.14.",
                                    "Darabszám": "3"
                                },
                                {
                                    "Cím": "Tótkomlós, Fő u. 2.",
                                    "Darabszám": "3"
                                },
                                {
                                    "Cím": "Vácszentlászló, Fő u. 2.",
                                    "Darabszám": "3"
                                },
                                {
                                    "Cím": "Vácszentlászló, Nagy u.14.",
                                    "Darabszám": "3"
                                },
                                {
                                    "Cím": "Vásárosnamény, Fő u. 2.",
                                    "Darabszám": "3"
                                },
                                {
                                    "Cím": "Szentgotthárd, Nagy u.14.",
                                    "Darabszám": "3"
                                },
                                {
                                    "Cím": "Szászvár, Fő u. 2.",
                                    "Darabszám": "3"
                                },
                                {
                                    "Cím": "Tiszakécske, Kiss u. 32.",
                                    "Darabszám": "3"
                                },
                                {
                                    "Cím": "Tokaj, Fő u. 2.",
                                    "Darabszám": "3"
                                },
                                {
                                    "Cím": "Tatabánya, Fő u. 2.",
                                    "Darabszám": "3"
                                },
                                {
                                    "Cím": "Táborfalva, Kiss u. 32.",
                                    "Darabszám": "2"
                                },
                                {
                                    "Cím": "Tiszakécske, Fő u. 2.",
                                    "Darabszám": "2"
                                },
                                {
                                    "Cím": "Szécsény, Fő u. 2.",
                                    "Darabszám": "2"
                                },
                                {
                                    "Cím": "Vásárosnamény, Kiss u. 32.",
                                    "Darabszám": "2"
                                },
                                {
                                    "Cím": "Vác, Kiss u. 32.",
                                    "Darabszám": "2"
                                },
                                {
                                    "Cím": "Újkígyós, Kiss u. 32.",
                                    "Darabszám": "2"
                                },
                                {
                                    "Cím": "Vésztő, Kiss u. 32.",
                                    "Darabszám": "2"
                                },
                                {
                                    "Cím": "Tokaj, Nagy u.14.",
                                    "Darabszám": "2"
                                },
                                {
                                    "Cím": "Tolna, Kiss u. 32.",
                                    "Darabszám": "2"
                                },
                                {
                                    "Cím": "Örkény, Kiss u. 32.",
                                    "Darabszám": "2"
                                },
                                {
                                    "Cím": "Ötvöskónyi, Nagy u.14.",
                                    "Darabszám": "2"
                                },
                                {
                                    "Cím": "Herceghalom, Nagy u.14.",
                                    "Darabszám": "2"
                                },
                                {
                                    "Cím": "Miskolc, Kiss u. 32.",
                                    "Darabszám": "2"
                                },
                                {
                                    "Cím": "Solt, Nagy u.14.",
                                    "Darabszám": "2"
                                },
                                {
                                    "Cím": "Sátoraljaújhely, Fő u. 2.",
                                    "Darabszám": "2"
                                },
                                {
                                    "Cím": "Szank, Fő u. 2.",
                                    "Darabszám": "2"
                                },
                                {
                                    "Cím": "Szank, Kiss u. 32.",
                                    "Darabszám": "2"
                                },
                                {
                                    "Cím": "Putnok, Fő u. 2.",
                                    "Darabszám": "2"
                                },
                                {
                                    "Cím": "Putnok, Kiss u. 32.",
                                    "Darabszám": "2"
                                },
                                {
                                    "Cím": "Sárbogárd, Fő u. 2.",
                                    "Darabszám": "2"
                                },
                                {
                                    "Cím": "Sárbogárd, Kiss u. 32.",
                                    "Darabszám": "2"
                                },
                                {
                                    "Cím": "Dabas, Kiss u. 32.",
                                    "Darabszám": "2"
                                },
                                {
                                    "Cím": "Dabas, Nagy u.14.",
                                    "Darabszám": "2"
                                },
                                {
                                    "Cím": "Dunaharaszti, Fő u. 2.",
                                    "Darabszám": "2"
                                },
                                {
                                    "Cím": "Bonyhád, Fő u. 2.",
                                    "Darabszám": "2"
                                },
                                {
                                    "Cím": "Balatonalmádi, Kiss u. 32.",
                                    "Darabszám": "2"
                                },
                                {
                                    "Cím": "Balotaszállás, Kiss u. 32.",
                                    "Darabszám": "2"
                                },
                                {
                                    "Cím": "Balatonlelle, Kiss u. 32.",
                                    "Darabszám": "2"
                                },
                                {
                                    "Cím": "Balatonlelle, Nagy u.14.",
                                    "Darabszám": "2"
                                },
                                {
                                    "Cím": "Baja, Fő u. 2.",
                                    "Darabszám": "2"
                                },
                                {
                                    "Cím": "Baja, Kiss u. 32.",
                                    "Darabszám": "2"
                                },
                                {
                                    "Cím": "Balassagyarmat, Fő u. 2.",
                                    "Darabszám": "2"
                                },
                                {
                                    "Cím": "Makó, Kiss u. 32.",
                                    "Darabszám": "2"
                                },
                                {
                                    "Cím": "Göd, Kiss u. 32.",
                                    "Darabszám": "2"
                                },
                                {
                                    "Cím": "Káptalantóti, Nagy u.14.",
                                    "Darabszám": "2"
                                },
                                {
                                    "Cím": "Görbeháza, Kiss u. 32.",
                                    "Darabszám": "2"
                                },
                                {
                                    "Cím": "Hajdúszoboszló, Fő u. 2.",
                                    "Darabszám": "2"
                                },
                                {
                                    "Cím": "Encs, Nagy u.14.",
                                    "Darabszám": "2"
                                },
                                {
                                    "Cím": "Gönc, Fő u. 2.",
                                    "Darabszám": "2"
                                },
                                {
                                    "Cím": "Eger, Nagy u.14.",
                                    "Darabszám": "2"
                                },
                                {
                                    "Cím": "Egyek, Fő u. 2.",
                                    "Darabszám": "2"
                                },
                                {
                                    "Cím": "Fonyód, Fő u. 2.",
                                    "Darabszám": "2"
                                },
                                {
                                    "Cím": "Fonyód, Kiss u. 32.",
                                    "Darabszám": "1"
                                },
                                {
                                    "Cím": "Encs, Fő u. 2.",
                                    "Darabszám": "1"
                                },
                                {
                                    "Cím": "Edelény, Nagy u.14.",
                                    "Darabszám": "1"
                                },
                                {
                                    "Cím": "Eger, Kiss u. 32.",
                                    "Darabszám": "1"
                                },
                                {
                                    "Cím": "Gönc, Kiss u. 32.",
                                    "Darabszám": "1"
                                },
                                {
                                    "Cím": "Gárdony, Fő u. 2.",
                                    "Darabszám": "1"
                                },
                                {
                                    "Cím": "Hajdúszoboszló, Kiss u. 32.",
                                    "Darabszám": "1"
                                },
                                {
                                    "Cím": "Hajdúszoboszló, Nagy u.14.",
                                    "Darabszám": "1"
                                },
                                {
                                    "Cím": "Gyenesdiás, Fő u. 2.",
                                    "Darabszám": "1"
                                },
                                {
                                    "Cím": "Gyenesdiás, Nagy u.14.",
                                    "Darabszám": "1"
                                },
                                {
                                    "Cím": "Kengyel, Fő u. 2.",
                                    "Darabszám": "1"
                                },
                                {
                                    "Cím": "Kengyel, Nagy u.14.",
                                    "Darabszám": "1"
                                },
                                {
                                    "Cím": "Isaszeg, Kiss u. 32.",
                                    "Darabszám": "1"
                                },
                                {
                                    "Cím": "Isaszeg, Nagy u.14.",
                                    "Darabszám": "1"
                                },
                                {
                                    "Cím": "Herceghalom, Kiss u. 32.",
                                    "Darabszám": "1"
                                },
                                {
                                    "Cím": "Káptalantóti, Fő u. 2.",
                                    "Darabszám": "1"
                                },
                                {
                                    "Cím": "Balassagyarmat, Nagy u.14.",
                                    "Darabszám": "1"
                                },
                                {
                                    "Cím": "Balatonalmádi, Fő u. 2.",
                                    "Darabszám": "1"
                                },
                                {
                                    "Cím": "Abaújszántó, Fő u. 2.",
                                    "Darabszám": "1"
                                },
                                {
                                    "Cím": "Abaújszántó, Kiss u. 32.",
                                    "Darabszám": "1"
                                },
                                {
                                    "Cím": "Ásotthalom, Kiss u. 32.",
                                    "Darabszám": "1"
                                },
                                {
                                    "Cím": "Balotaszállás, Nagy u.14.",
                                    "Darabszám": "1"
                                },
                                {
                                    "Cím": "Balatonalmádi, Nagy u.14.",
                                    "Darabszám": "1"
                                },
                                {
                                    "Cím": "Balatonboglár, Kiss u. 32.",
                                    "Darabszám": "1"
                                },
                                {
                                    "Cím": "Balatonlelle, Fő u. 2.",
                                    "Darabszám": "1"
                                },
                                {
                                    "Cím": "Bonyhád, Kiss u. 32.",
                                    "Darabszám": "1"
                                },
                                {
                                    "Cím": "Sándorfalva, Nagy u.14.",
                                    "Darabszám": "1"
                                },
                                {
                                    "Cím": "Sarkad, Kiss u. 32.",
                                    "Darabszám": "1"
                                },
                                {
                                    "Cím": "Sármellék, Nagy u.14.",
                                    "Darabszám": "1"
                                },
                                {
                                    "Cím": "Szank, Nagy u.14.",
                                    "Darabszám": "1"
                                },
                                {
                                    "Cím": "Sátoraljaújhely, Nagy u.14.",
                                    "Darabszám": "1"
                                },
                                {
                                    "Cím": "Solt, Fő u. 2.",
                                    "Darabszám": "1"
                                },
                                {
                                    "Cím": "Solt, Kiss u. 32.",
                                    "Darabszám": "1"
                                },
                                {
                                    "Cím": "Miskolc, Nagy u.14.",
                                    "Darabszám": "1"
                                },
                                {
                                    "Cím": "Nagykanizsa, Fő u. 2.",
                                    "Darabszám": "1"
                                },
                                {
                                    "Cím": "Nagykanizsa, Kiss u. 32.",
                                    "Darabszám": "1"
                                },
                                {
                                    "Cím": "Mezőkeresztes, Kiss u. 32.",
                                    "Darabszám": "1"
                                },
                                {
                                    "Cím": "Mezőkeresztes, Nagy u.14.",
                                    "Darabszám": "1"
                                },
                                {
                                    "Cím": "Miskolc, Fő u. 2.",
                                    "Darabszám": "1"
                                },
                                {
                                    "Cím": "Piliscsaba, Nagy u.14.",
                                    "Darabszám": "1"
                                },
                                {
                                    "Cím": "Rákóczifalva, Kiss u. 32.",
                                    "Darabszám": "1"
                                },
                                {
                                    "Cím": "Pusztamérges, Fő u. 2.",
                                    "Darabszám": "1"
                                },
                                {
                                    "Cím": "Pusztamérges, Kiss u. 32.",
                                    "Darabszám": "1"
                                },
                                {
                                    "Cím": "Pusztamérges, Nagy u.14.",
                                    "Darabszám": "1"
                                },
                                {
                                    "Cím": "Tokodaltáró, Fő u. 2.",
                                    "Darabszám": "1"
                                },
                                {
                                    "Cím": "Tótkomlós, Kiss u. 32.",
                                    "Darabszám": "1"
                                },
                                {
                                    "Cím": "Tótkomlós, Nagy u.14.",
                                    "Darabszám": "1"
                                },
                                {
                                    "Cím": "Vésztő, Nagy u.14.",
                                    "Darabszám": "1"
                                },
                                {
                                    "Cím": "Újkígyós, Nagy u.14.",
                                    "Darabszám": "1"
                                },
                                {
                                    "Cím": "Vásárosnamény, Nagy u.14.",
                                    "Darabszám": "1"
                                },
                                {
                                    "Cím": "Szombathely, Fő u. 2.",
                                    "Darabszám": "1"
                                },
                                {
                                    "Cím": "Táborfalva, Fő u. 2.",
                                    "Darabszám": "1"
                                },
                                {
                                    "Cím": "Szászvár, Kiss u. 32.",
                                    "Darabszám": "1"
                                },
                                {
                                    "Cím": "Szászvár, Nagy u.14.",
                                    "Darabszám": "1"
                                },
                                {
                                    "Cím": "Szentgotthárd, Fő u. 2.",
                                    "Darabszám": "1"
                                },
                                {
                                    "Cím": "Szentgotthárd, Kiss u. 32.",
                                    "Darabszám": "1"
                                },
                                {
                                    "Cím": "Tatabánya, Kiss u. 32.",
                                    "Darabszám": "1"
                                },
                                {
                                    "Cím": "Tatabánya, Nagy u.14.",
                                    "Darabszám": "1"
                                },
                                {
                                    "Cím": "Tihany, Fő u. 2.",
                                    "Darabszám": "1"
                                },
                                {
                                    "Cím": "Tihany, Kiss u. 32.",
                                    "Darabszám": "1"
                                },
                                {
                                    "Cím": "Tihany, Nagy u.14.",
                                    "Darabszám": "1"
                                }
                            ]
                        },
                        "text/html": [
                            "<table>",
                            "<tr><th>Cím</th><th>Darabszám</th></tr>",
                            "<tr><td>Összesen</td><td>6396</td></tr>",
                            "<tr><td>Budapest, Fő u. 2.</td><td>303</td></tr>",
                            "<tr><td>Budapest, Kiss u. 32.</td><td>215</td></tr>",
                            "<tr><td>Győr, Fő u. 2.</td><td>154</td></tr>",
                            "<tr><td>Budapest, Nagy u.14.</td><td>131</td></tr>",
                            "<tr><td>Jászkisér, Fő u. 2.</td><td>123</td></tr>",
                            "<tr><td>Győr, Kiss u. 32.</td><td>93</td></tr>",
                            "<tr><td>Törökszentmiklós, Fő u. 2.</td><td>90</td></tr>",
                            "<tr><td>Ruzsa, Fő u. 2.</td><td>81</td></tr>",
                            "<tr><td>Jászkisér, Kiss u. 32.</td><td>76</td></tr>",
                            "<tr><td>Ruzsa, Kiss u. 32.</td><td>70</td></tr>",
                            "<tr><td>Jászkisér, Nagy u.14.</td><td>67</td></tr>",
                            "<tr><td>Zsadány, Fő u. 2.</td><td>64</td></tr>",
                            "<tr><td>Tömörkény, Fő u. 2.</td><td>63</td></tr>",
                            "<tr><td>Agárd, Fő u. 2.</td><td>61</td></tr>",
                            "<tr><td>Kimle, Fő u. 2.</td><td>58</td></tr>",
                            "<tr><td>Gödöllő, Fő u. 2.</td><td>58</td></tr>",
                            "<tr><td>Nagyszénás, Fő u. 2.</td><td>57</td></tr>",
                            "<tr><td>Kistelek, Fő u. 2.</td><td>56</td></tr>",
                            "<tr><td>Besenyszög, Fő u. 2.</td><td>56</td></tr>",
                            "<tr><td>Albertirsa, Fő u. 2.</td><td>55</td></tr>",
                            "<tr><td>Ráckeve, Fő u. 2.</td><td>55</td></tr>",
                            "<tr><td>Sellye, Fő u. 2.</td><td>54</td></tr>",
                            "<tr><td>Csorvás, Fő u. 2.</td><td>54</td></tr>",
                            "<tr><td>Előszállás, Fő u. 2.</td><td>54</td></tr>",
                            "<tr><td>Dédestapolcsány, Fő u. 2.</td><td>53</td></tr>",
                            "<tr><td>Nyíregyháza, Fő u. 2.</td><td>53</td></tr>",
                            "<tr><td>Szabadszállás, Fő u. 2.</td><td>52</td></tr>",
                            "<tr><td>Szigetvár, Fő u. 2.</td><td>52</td></tr>",
                            "<tr><td>Törökszentmiklós, Kiss u. 32.</td><td>51</td></tr>",
                            "<tr><td>Veszprém, Fő u. 2.</td><td>51</td></tr>",
                            "<tr><td>Cegléd, Fő u. 2.</td><td>51</td></tr>",
                            "<tr><td>Bokod, Fő u. 2.</td><td>51</td></tr>",
                            "<tr><td>Szeged, Fő u. 2.</td><td>50</td></tr>",
                            "<tr><td>Ruzsa, Nagy u.14.</td><td>49</td></tr>",
                            "<tr><td>Kisújszállás, Fő u. 2.</td><td>49</td></tr>",
                            "<tr><td>Lébény, Fő u. 2.</td><td>49</td></tr>",
                            "<tr><td>Répcelak, Fő u. 2.</td><td>48</td></tr>",
                            "<tr><td>Nagykörű, Fő u. 2.</td><td>47</td></tr>",
                            "<tr><td>Tiszaújváros, Fő u. 2.</td><td>47</td></tr>",
                            "<tr><td>Győr, Nagy u.14.</td><td>47</td></tr>",
                            "<tr><td>Lajosmizse, Fő u. 2.</td><td>45</td></tr>",
                            "<tr><td>Cigánd, Fő u. 2.</td><td>45</td></tr>",
                            "<tr><td>Bácsalmás, Fő u. 2.</td><td>45</td></tr>",
                            "<tr><td>Balatongyörök, Fő u. 2.</td><td>45</td></tr>",
                            "<tr><td>Tiszasüly, Fő u. 2.</td><td>45</td></tr>",
                            "<tr><td>Ozora, Fő u. 2.</td><td>45</td></tr>",
                            "<tr><td>Csanádpalota, Fő u. 2.</td><td>44</td></tr>",
                            "<tr><td>Báta, Fő u. 2.</td><td>44</td></tr>",
                            "<tr><td>Tiszavasvári, Fő u. 2.</td><td>43</td></tr>",
                            "<tr><td>Pilisvörösvár, Fő u. 2.</td><td>42</td></tr>",
                            "<tr><td>Martonvásár, Fő u. 2.</td><td>41</td></tr>",
                            "<tr><td>Répcelak, Kiss u. 32.</td><td>41</td></tr>",
                            "<tr><td>Újfehértó, Fő u. 2.</td><td>41</td></tr>",
                            "<tr><td>Balmazújváros, Fő u. 2.</td><td>41</td></tr>",
                            "<tr><td>Magyarszék, Fő u. 2.</td><td>41</td></tr>",
                            "<tr><td>Fadd, Fő u. 2.</td><td>40</td></tr>",
                            "<tr><td>Gödöllő, Kiss u. 32.</td><td>39</td></tr>",
                            "<tr><td>Balatongyörök, Kiss u. 32.</td><td>39</td></tr>",
                            "<tr><td>Bököny, Fő u. 2.</td><td>39</td></tr>",
                            "<tr><td>Sülysáp, Fő u. 2.</td><td>39</td></tr>",
                            "<tr><td>Szentendre, Fő u. 2.</td><td>38</td></tr>",
                            "<tr><td>Lébény, Kiss u. 32.</td><td>36</td></tr>",
                            "<tr><td>Kisújszállás, Kiss u. 32.</td><td>35</td></tr>",
                            "<tr><td>Besenyszög, Kiss u. 32.</td><td>35</td></tr>",
                            "<tr><td>Nyíregyháza, Kiss u. 32.</td><td>35</td></tr>",
                            "<tr><td>Albertirsa, Nagy u.14.</td><td>34</td></tr>",
                            "<tr><td>Békés, Fő u. 2.</td><td>33</td></tr>",
                            "<tr><td>Bokod, Kiss u. 32.</td><td>33</td></tr>",
                            "<tr><td>Dédestapolcsány, Kiss u. 32.</td><td>33</td></tr>",
                            "<tr><td>Ozora, Kiss u. 32.</td><td>33</td></tr>",
                            "<tr><td>Törökszentmiklós, Nagy u.14.</td><td>33</td></tr>",
                            "<tr><td>Tömörkény, Kiss u. 32.</td><td>33</td></tr>",
                            "<tr><td>Szeged, Kiss u. 32.</td><td>32</td></tr>",
                            "<tr><td>Cegléd, Kiss u. 32.</td><td>32</td></tr>",
                            "<tr><td>Csorvás, Kiss u. 32.</td><td>31</td></tr>",
                            "<tr><td>Cigánd, Kiss u. 32.</td><td>31</td></tr>",
                            "<tr><td>Balmazújváros, Nagy u.14.</td><td>31</td></tr>",
                            "<tr><td>Veszprém, Kiss u. 32.</td><td>31</td></tr>",
                            "<tr><td>Ráckeve, Kiss u. 32.</td><td>31</td></tr>",
                            "<tr><td>Nagykörű, Kiss u. 32.</td><td>30</td></tr>",
                            "<tr><td>Tiszavasvári, Kiss u. 32.</td><td>30</td></tr>",
                            "<tr><td>Albertirsa, Kiss u. 32.</td><td>30</td></tr>",
                            "<tr><td>Békés, Kiss u. 32.</td><td>30</td></tr>",
                            "<tr><td>Báta, Kiss u. 32.</td><td>30</td></tr>",
                            "<tr><td>Magyarszék, Kiss u. 32.</td><td>30</td></tr>",
                            "<tr><td>Kimle, Kiss u. 32.</td><td>30</td></tr>",
                            "<tr><td>Előszállás, Kiss u. 32.</td><td>29</td></tr>",
                            "<tr><td>Szekszárd, Fő u. 2.</td><td>29</td></tr>",
                            "<tr><td>Tömörkény, Nagy u.14.</td><td>29</td></tr>",
                            "<tr><td>Agárd, Nagy u.14.</td><td>28</td></tr>",
                            "<tr><td>Fadd, Kiss u. 32.</td><td>27</td></tr>",
                            "<tr><td>Besenyszög, Nagy u.14.</td><td>27</td></tr>",
                            "<tr><td>Cegléd, Nagy u.14.</td><td>27</td></tr>",
                            "<tr><td>Agárd, Kiss u. 32.</td><td>27</td></tr>",
                            "<tr><td>Bököny, Kiss u. 32.</td><td>26</td></tr>",
                            "<tr><td>Lajosmizse, Kiss u. 32.</td><td>26</td></tr>",
                            "<tr><td>Pilisvörösvár, Kiss u. 32.</td><td>26</td></tr>",
                            "<tr><td>Sülysáp, Kiss u. 32.</td><td>26</td></tr>",
                            "<tr><td>Szabadszállás, Nagy u.14.</td><td>26</td></tr>",
                            "<tr><td>Ozora, Nagy u.14.</td><td>25</td></tr>",
                            "<tr><td>Nagyszénás, Nagy u.14.</td><td>25</td></tr>",
                            "<tr><td>Zsadány, Kiss u. 32.</td><td>25</td></tr>",
                            "<tr><td>Szigetvár, Kiss u. 32.</td><td>25</td></tr>",
                            "<tr><td>Tiszavasvári, Nagy u.14.</td><td>25</td></tr>",
                            "<tr><td>Tiszasüly, Nagy u.14.</td><td>25</td></tr>",
                            "<tr><td>Kistelek, Kiss u. 32.</td><td>25</td></tr>",
                            "<tr><td>Csanádpalota, Kiss u. 32.</td><td>25</td></tr>",
                            "<tr><td>Csanádpalota, Nagy u.14.</td><td>25</td></tr>",
                            "<tr><td>Csorvás, Nagy u.14.</td><td>25</td></tr>",
                            "<tr><td>Bácsalmás, Kiss u. 32.</td><td>24</td></tr>",
                            "<tr><td>Balmazújváros, Kiss u. 32.</td><td>24</td></tr>",
                            "<tr><td>Lajosmizse, Nagy u.14.</td><td>24</td></tr>",
                            "<tr><td>Szigetvár, Nagy u.14.</td><td>24</td></tr>",
                            "<tr><td>Szentendre, Kiss u. 32.</td><td>24</td></tr>",
                            "<tr><td>Szentendre, Nagy u.14.</td><td>24</td></tr>",
                            "<tr><td>Nyíregyháza, Nagy u.14.</td><td>24</td></tr>",
                            "<tr><td>Pilisvörösvár, Nagy u.14.</td><td>24</td></tr>",
                            "<tr><td>Szabadszállás, Kiss u. 32.</td><td>24</td></tr>",
                            "<tr><td>Lébény, Nagy u.14.</td><td>23</td></tr>",
                            "<tr><td>Bácsalmás, Nagy u.14.</td><td>23</td></tr>",
                            "<tr><td>Bököny, Nagy u.14.</td><td>22</td></tr>",
                            "<tr><td>Békés, Nagy u.14.</td><td>22</td></tr>",
                            "<tr><td>Sellye, Kiss u. 32.</td><td>22</td></tr>",
                            "<tr><td>Nagyszénás, Kiss u. 32.</td><td>22</td></tr>",
                            "<tr><td>Martonvásár, Nagy u.14.</td><td>22</td></tr>",
                            "<tr><td>Tiszasüly, Kiss u. 32.</td><td>22</td></tr>",
                            "<tr><td>Martonvásár, Kiss u. 32.</td><td>21</td></tr>",
                            "<tr><td>Kistelek, Nagy u.14.</td><td>20</td></tr>",
                            "<tr><td>Kimle, Nagy u.14.</td><td>20</td></tr>",
                            "<tr><td>Magyarszék, Nagy u.14.</td><td>19</td></tr>",
                            "<tr><td>Előszállás, Nagy u.14.</td><td>19</td></tr>",
                            "<tr><td>Bokod, Nagy u.14.</td><td>19</td></tr>",
                            "<tr><td>Tiszaújváros, Nagy u.14.</td><td>19</td></tr>",
                            "<tr><td>Zsadány, Nagy u.14.</td><td>18</td></tr>",
                            "<tr><td>Gödöllő, Nagy u.14.</td><td>18</td></tr>",
                            "<tr><td>Kisújszállás, Nagy u.14.</td><td>18</td></tr>",
                            "<tr><td>Báta, Nagy u.14.</td><td>17</td></tr>",
                            "<tr><td>Újfehértó, Nagy u.14.</td><td>17</td></tr>",
                            "<tr><td>Tiszaújváros, Kiss u. 32.</td><td>17</td></tr>",
                            "<tr><td>Szekszárd, Kiss u. 32.</td><td>17</td></tr>",
                            "<tr><td>Répcelak, Nagy u.14.</td><td>17</td></tr>",
                            "<tr><td>Szeged, Nagy u.14.</td><td>16</td></tr>",
                            "<tr><td>Fadd, Nagy u.14.</td><td>16</td></tr>",
                            "<tr><td>Cigánd, Nagy u.14.</td><td>15</td></tr>",
                            "<tr><td>Balatongyörök, Nagy u.14.</td><td>15</td></tr>",
                            "<tr><td>Újfehértó, Kiss u. 32.</td><td>15</td></tr>",
                            "<tr><td>Sármellék, Fő u. 2.</td><td>15</td></tr>",
                            "<tr><td>Sellye, Nagy u.14.</td><td>15</td></tr>",
                            "<tr><td>Sülysáp, Nagy u.14.</td><td>15</td></tr>",
                            "<tr><td>Nagykörű, Nagy u.14.</td><td>14</td></tr>",
                            "<tr><td>Ráckeve, Nagy u.14.</td><td>14</td></tr>",
                            "<tr><td>Veszprém, Nagy u.14.</td><td>14</td></tr>",
                            "<tr><td>Dédestapolcsány, Nagy u.14.</td><td>14</td></tr>",
                            "<tr><td>Szekszárd, Nagy u.14.</td><td>13</td></tr>",
                            "<tr><td>Kővágóörs, Fő u. 2.</td><td>6</td></tr>",
                            "<tr><td>Herceghalom, Fő u. 2.</td><td>6</td></tr>",
                            "<tr><td>Káptalantóti, Kiss u. 32.</td><td>5</td></tr>",
                            "<tr><td>Kővágóörs, Kiss u. 32.</td><td>5</td></tr>",
                            "<tr><td>Dabas, Fő u. 2.</td><td>5</td></tr>",
                            "<tr><td>Biharnagybajom, Kiss u. 32.</td><td>5</td></tr>",
                            "<tr><td>Balotaszállás, Fő u. 2.</td><td>5</td></tr>",
                            "<tr><td>Vác, Fő u. 2.</td><td>5</td></tr>",
                            "<tr><td>Vácszentlászló, Kiss u. 32.</td><td>4</td></tr>",
                            "<tr><td>Vésztő, Fő u. 2.</td><td>4</td></tr>",
                            "<tr><td>Tolna, Fő u. 2.</td><td>4</td></tr>",
                            "<tr><td>Tokaj, Kiss u. 32.</td><td>4</td></tr>",
                            "<tr><td>Sármellék, Kiss u. 32.</td><td>4</td></tr>",
                            "<tr><td>Sarkad, Fő u. 2.</td><td>4</td></tr>",
                            "<tr><td>Sándorfalva, Kiss u. 32.</td><td>4</td></tr>",
                            "<tr><td>Balatonboglár, Fő u. 2.</td><td>4</td></tr>",
                            "<tr><td>Kővágóörs, Nagy u.14.</td><td>4</td></tr>",
                            "<tr><td>Isaszeg, Fő u. 2.</td><td>4</td></tr>",
                            "<tr><td>Egyek, Kiss u. 32.</td><td>4</td></tr>",
                            "<tr><td>Egyek, Nagy u.14.</td><td>3</td></tr>",
                            "<tr><td>Dunaharaszti, Kiss u. 32.</td><td>3</td></tr>",
                            "<tr><td>Edelény, Fő u. 2.</td><td>3</td></tr>",
                            "<tr><td>Fonyód, Nagy u.14.</td><td>3</td></tr>",
                            "<tr><td>Görbeháza, Fő u. 2.</td><td>3</td></tr>",
                            "<tr><td>Göd, Fő u. 2.</td><td>3</td></tr>",
                            "<tr><td>Kisvárda, Fő u. 2.</td><td>3</td></tr>",
                            "<tr><td>Cserkeszőlő, Fő u. 2.</td><td>3</td></tr>",
                            "<tr><td>Sándorfalva, Fő u. 2.</td><td>3</td></tr>",
                            "<tr><td>Sarkad, Nagy u.14.</td><td>3</td></tr>",
                            "<tr><td>Ötvöskónyi, Kiss u. 32.</td><td>3</td></tr>",
                            "<tr><td>Örkény, Fő u. 2.</td><td>3</td></tr>",
                            "<tr><td>Tokodaltáró, Kiss u. 32.</td><td>3</td></tr>",
                            "<tr><td>Tolna, Nagy u.14.</td><td>3</td></tr>",
                            "<tr><td>Tótkomlós, Fő u. 2.</td><td>3</td></tr>",
                            "<tr><td>Vácszentlászló, Fő u. 2.</td><td>3</td></tr>",
                            "<tr><td>Vácszentlászló, Nagy u.14.</td><td>3</td></tr>",
                            "<tr><td>Vásárosnamény, Fő u. 2.</td><td>3</td></tr>",
                            "<tr><td>Szentgotthárd, Nagy u.14.</td><td>3</td></tr>",
                            "<tr><td>Szászvár, Fő u. 2.</td><td>3</td></tr>",
                            "<tr><td>Tiszakécske, Kiss u. 32.</td><td>3</td></tr>",
                            "<tr><td>Tokaj, Fő u. 2.</td><td>3</td></tr>",
                            "<tr><td>Tatabánya, Fő u. 2.</td><td>3</td></tr>",
                            "<tr><td>Táborfalva, Kiss u. 32.</td><td>2</td></tr>",
                            "<tr><td>Tiszakécske, Fő u. 2.</td><td>2</td></tr>",
                            "<tr><td>Szécsény, Fő u. 2.</td><td>2</td></tr>",
                            "<tr><td>Vásárosnamény, Kiss u. 32.</td><td>2</td></tr>",
                            "<tr><td>Vác, Kiss u. 32.</td><td>2</td></tr>",
                            "<tr><td>Újkígyós, Kiss u. 32.</td><td>2</td></tr>",
                            "<tr><td>Vésztő, Kiss u. 32.</td><td>2</td></tr>",
                            "<tr><td>Tokaj, Nagy u.14.</td><td>2</td></tr>",
                            "<tr><td>Tolna, Kiss u. 32.</td><td>2</td></tr>",
                            "<tr><td>Örkény, Kiss u. 32.</td><td>2</td></tr>",
                            "<tr><td>Ötvöskónyi, Nagy u.14.</td><td>2</td></tr>",
                            "<tr><td>Herceghalom, Nagy u.14.</td><td>2</td></tr>",
                            "<tr><td>Miskolc, Kiss u. 32.</td><td>2</td></tr>",
                            "<tr><td>Solt, Nagy u.14.</td><td>2</td></tr>",
                            "<tr><td>Sátoraljaújhely, Fő u. 2.</td><td>2</td></tr>",
                            "<tr><td>Szank, Fő u. 2.</td><td>2</td></tr>",
                            "<tr><td>Szank, Kiss u. 32.</td><td>2</td></tr>",
                            "<tr><td>Putnok, Fő u. 2.</td><td>2</td></tr>",
                            "<tr><td>Putnok, Kiss u. 32.</td><td>2</td></tr>",
                            "<tr><td>Sárbogárd, Fő u. 2.</td><td>2</td></tr>",
                            "<tr><td>Sárbogárd, Kiss u. 32.</td><td>2</td></tr>",
                            "<tr><td>Dabas, Kiss u. 32.</td><td>2</td></tr>",
                            "<tr><td>Dabas, Nagy u.14.</td><td>2</td></tr>",
                            "<tr><td>Dunaharaszti, Fő u. 2.</td><td>2</td></tr>",
                            "<tr><td>Bonyhád, Fő u. 2.</td><td>2</td></tr>",
                            "<tr><td>Balatonalmádi, Kiss u. 32.</td><td>2</td></tr>",
                            "<tr><td>Balotaszállás, Kiss u. 32.</td><td>2</td></tr>",
                            "<tr><td>Balatonlelle, Kiss u. 32.</td><td>2</td></tr>",
                            "<tr><td>Balatonlelle, Nagy u.14.</td><td>2</td></tr>",
                            "<tr><td>Baja, Fő u. 2.</td><td>2</td></tr>",
                            "<tr><td>Baja, Kiss u. 32.</td><td>2</td></tr>",
                            "<tr><td>Balassagyarmat, Fő u. 2.</td><td>2</td></tr>",
                            "<tr><td>Makó, Kiss u. 32.</td><td>2</td></tr>",
                            "<tr><td>Göd, Kiss u. 32.</td><td>2</td></tr>",
                            "<tr><td>Káptalantóti, Nagy u.14.</td><td>2</td></tr>",
                            "<tr><td>Görbeháza, Kiss u. 32.</td><td>2</td></tr>",
                            "<tr><td>Hajdúszoboszló, Fő u. 2.</td><td>2</td></tr>",
                            "<tr><td>Encs, Nagy u.14.</td><td>2</td></tr>",
                            "<tr><td>Gönc, Fő u. 2.</td><td>2</td></tr>",
                            "<tr><td>Eger, Nagy u.14.</td><td>2</td></tr>",
                            "<tr><td>Egyek, Fő u. 2.</td><td>2</td></tr>",
                            "<tr><td>Fonyód, Fő u. 2.</td><td>2</td></tr>",
                            "<tr><td>Fonyód, Kiss u. 32.</td><td>1</td></tr>",
                            "<tr><td>Encs, Fő u. 2.</td><td>1</td></tr>",
                            "<tr><td>Edelény, Nagy u.14.</td><td>1</td></tr>",
                            "<tr><td>Eger, Kiss u. 32.</td><td>1</td></tr>",
                            "<tr><td>Gönc, Kiss u. 32.</td><td>1</td></tr>",
                            "<tr><td>Gárdony, Fő u. 2.</td><td>1</td></tr>",
                            "<tr><td>Hajdúszoboszló, Kiss u. 32.</td><td>1</td></tr>",
                            "<tr><td>Hajdúszoboszló, Nagy u.14.</td><td>1</td></tr>",
                            "<tr><td>Gyenesdiás, Fő u. 2.</td><td>1</td></tr>",
                            "<tr><td>Gyenesdiás, Nagy u.14.</td><td>1</td></tr>",
                            "<tr><td>Kengyel, Fő u. 2.</td><td>1</td></tr>",
                            "<tr><td>Kengyel, Nagy u.14.</td><td>1</td></tr>",
                            "<tr><td>Isaszeg, Kiss u. 32.</td><td>1</td></tr>",
                            "<tr><td>Isaszeg, Nagy u.14.</td><td>1</td></tr>",
                            "<tr><td>Herceghalom, Kiss u. 32.</td><td>1</td></tr>",
                            "<tr><td>Káptalantóti, Fő u. 2.</td><td>1</td></tr>",
                            "<tr><td>Balassagyarmat, Nagy u.14.</td><td>1</td></tr>",
                            "<tr><td>Balatonalmádi, Fő u. 2.</td><td>1</td></tr>",
                            "<tr><td>Abaújszántó, Fő u. 2.</td><td>1</td></tr>",
                            "<tr><td>Abaújszántó, Kiss u. 32.</td><td>1</td></tr>",
                            "<tr><td>Ásotthalom, Kiss u. 32.</td><td>1</td></tr>",
                            "<tr><td>Balotaszállás, Nagy u.14.</td><td>1</td></tr>",
                            "<tr><td>Balatonalmádi, Nagy u.14.</td><td>1</td></tr>",
                            "<tr><td>Balatonboglár, Kiss u. 32.</td><td>1</td></tr>",
                            "<tr><td>Balatonlelle, Fő u. 2.</td><td>1</td></tr>",
                            "<tr><td>Bonyhád, Kiss u. 32.</td><td>1</td></tr>",
                            "<tr><td>Sándorfalva, Nagy u.14.</td><td>1</td></tr>",
                            "<tr><td>Sarkad, Kiss u. 32.</td><td>1</td></tr>",
                            "<tr><td>Sármellék, Nagy u.14.</td><td>1</td></tr>",
                            "<tr><td>Szank, Nagy u.14.</td><td>1</td></tr>",
                            "<tr><td>Sátoraljaújhely, Nagy u.14.</td><td>1</td></tr>",
                            "<tr><td>Solt, Fő u. 2.</td><td>1</td></tr>",
                            "<tr><td>Solt, Kiss u. 32.</td><td>1</td></tr>",
                            "<tr><td>Miskolc, Nagy u.14.</td><td>1</td></tr>",
                            "<tr><td>Nagykanizsa, Fő u. 2.</td><td>1</td></tr>",
                            "<tr><td>Nagykanizsa, Kiss u. 32.</td><td>1</td></tr>",
                            "<tr><td>Mezőkeresztes, Kiss u. 32.</td><td>1</td></tr>",
                            "<tr><td>Mezőkeresztes, Nagy u.14.</td><td>1</td></tr>",
                            "<tr><td>Miskolc, Fő u. 2.</td><td>1</td></tr>",
                            "<tr><td>Piliscsaba, Nagy u.14.</td><td>1</td></tr>",
                            "<tr><td>Rákóczifalva, Kiss u. 32.</td><td>1</td></tr>",
                            "<tr><td>Pusztamérges, Fő u. 2.</td><td>1</td></tr>",
                            "<tr><td>Pusztamérges, Kiss u. 32.</td><td>1</td></tr>",
                            "<tr><td>Pusztamérges, Nagy u.14.</td><td>1</td></tr>",
                            "<tr><td>Tokodaltáró, Fő u. 2.</td><td>1</td></tr>",
                            "<tr><td>Tótkomlós, Kiss u. 32.</td><td>1</td></tr>",
                            "<tr><td>Tótkomlós, Nagy u.14.</td><td>1</td></tr>",
                            "<tr><td>Vésztő, Nagy u.14.</td><td>1</td></tr>",
                            "<tr><td>Újkígyós, Nagy u.14.</td><td>1</td></tr>",
                            "<tr><td>Vásárosnamény, Nagy u.14.</td><td>1</td></tr>",
                            "<tr><td>Szombathely, Fő u. 2.</td><td>1</td></tr>",
                            "<tr><td>Táborfalva, Fő u. 2.</td><td>1</td></tr>",
                            "<tr><td>Szászvár, Kiss u. 32.</td><td>1</td></tr>",
                            "<tr><td>Szászvár, Nagy u.14.</td><td>1</td></tr>",
                            "<tr><td>Szentgotthárd, Fő u. 2.</td><td>1</td></tr>",
                            "<tr><td>Szentgotthárd, Kiss u. 32.</td><td>1</td></tr>",
                            "<tr><td>Tatabánya, Kiss u. 32.</td><td>1</td></tr>",
                            "<tr><td>Tatabánya, Nagy u.14.</td><td>1</td></tr>",
                            "<tr><td>Tihany, Fő u. 2.</td><td>1</td></tr>",
                            "<tr><td>Tihany, Kiss u. 32.</td><td>1</td></tr>",
                            "<tr><td>Tihany, Nagy u.14.</td><td>1</td></tr>",
                            "</table>"
                        ]
                    }
                }
            ],
            "execution_count": 76
        },
        {
            "cell_type": "markdown",
            "source": [
                "Készítettem egy excel diagramot is, ami mutatja az 5 leggyakoribb cím eloszlását.\n",
                "\n",
                "![](data:image/png;base64,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)"
            ],
            "metadata": {
                "azdata_cell_guid": "2a3cdda1-260b-4730-8827-774dbb5f7b94"
            },
            "attachments": {}
        }
    ]
}
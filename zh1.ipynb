{
    "metadata": {
        "kernelspec": {
            "name": "SQL",
            "display_name": "SQL",
            "language": "sql"
        },
        "language_info": {
            "name": "sql",
            "version": ""
        }
    },
    "nbformat_minor": 2,
    "nbformat": 4,
    "cells": [
        {
            "cell_type": "code",
            "source": [
                "--- Feladat 1\r\n",
                "SELECT szh.TIPUS, ROUND(COUNT(*),-2) as 'Darab'\r\n",
                "FROM Foglalas f JOIN Szoba sz on f.SZOBA_FK = sz.SZOBA_ID\r\n",
                "                JOIN Szallashely szh on sz.SZALLAS_FK = szh.SZALLAS_ID\r\n",
                "GROUP BY szh.TIPUS\r\n",
                "HAVING ROUND(COUNT(*),-2) < 500"
            ],
            "metadata": {
                "azdata_cell_guid": "87d6618a-ac40-4798-8a73-8d91463a63d3",
                "language": "sql",
                "tags": []
            },
            "outputs": [
                {
                    "output_type": "display_data",
                    "data": {
                        "text/html": "(3 rows affected)"
                    },
                    "metadata": {}
                },
                {
                    "output_type": "display_data",
                    "data": {
                        "text/html": "Total execution time: 00:00:00.024"
                    },
                    "metadata": {}
                },
                {
                    "output_type": "execute_result",
                    "metadata": {},
                    "execution_count": 6,
                    "data": {
                        "application/vnd.dataresource+json": {
                            "schema": {
                                "fields": [
                                    {
                                        "name": "TIPUS"
                                    },
                                    {
                                        "name": "(No column name)"
                                    }
                                ]
                            },
                            "data": [
                                {
                                    "TIPUS": "Apartman",
                                    "(No column name)": "100"
                                },
                                {
                                    "TIPUS": "vendégház",
                                    "(No column name)": "100"
                                },
                                {
                                    "TIPUS": "panzió",
                                    "(No column name)": "200"
                                }
                            ]
                        },
                        "text/html": [
                            "<table>",
                            "<tr><th>TIPUS</th><th>(No column name)</th></tr>",
                            "<tr><td>Apartman</td><td>100</td></tr>",
                            "<tr><td>vendégház</td><td>100</td></tr>",
                            "<tr><td>panzió</td><td>200</td></tr>",
                            "</table>"
                        ]
                    }
                }
            ],
            "execution_count": 6
        },
        {
            "cell_type": "code",
            "source": [
                "--- Feladat 2\r\n",
                "\r\n",
                "SELECT CASE\r\n",
                "            WHEN YEAR(v.SZUL_DAT) > 1985 THEN 'fiatal'\r\n",
                "            WHEN YEAR(v.SZUL_DAT) < 1970 THEN 'idős'\r\n",
                "            ELSE 'középkorú'\r\n",
                "        END AS 'Kategória',\r\n",
                "        count(*) as 'Szám'\r\n",
                "\r\n",
                "FROM Foglalas f JOIN Vendeg v on f.UGYFEL_FK = v.USERNEV\r\n",
                "WHERE (f.FELNOTT_SZAM + f.GYERMEK_SZAM) > 1\r\n",
                "GROUP BY CASE\r\n",
                "            WHEN YEAR(v.SZUL_DAT) > 1985 THEN 'fiatal'\r\n",
                "            WHEN YEAR(v.SZUL_DAT) < 1970 THEN 'idős'\r\n",
                "            ELSE 'középkorú'\r\n",
                "        END"
            ],
            "metadata": {
                "language": "sql",
                "azdata_cell_guid": "54928239-4bba-466c-898f-457cb0e85f7e",
                "tags": []
            },
            "outputs": [
                {
                    "output_type": "display_data",
                    "data": {
                        "text/html": "(3 rows affected)"
                    },
                    "metadata": {}
                },
                {
                    "output_type": "display_data",
                    "data": {
                        "text/html": "Total execution time: 00:00:00.025"
                    },
                    "metadata": {}
                },
                {
                    "output_type": "execute_result",
                    "metadata": {},
                    "execution_count": 20,
                    "data": {
                        "application/vnd.dataresource+json": {
                            "schema": {
                                "fields": [
                                    {
                                        "name": "Kategória"
                                    },
                                    {
                                        "name": "Szám"
                                    }
                                ]
                            },
                            "data": [
                                {
                                    "Kategória": "fiatal",
                                    "Szám": "342"
                                },
                                {
                                    "Kategória": "idős",
                                    "Szám": "96"
                                },
                                {
                                    "Kategória": "középkorú",
                                    "Szám": "442"
                                }
                            ]
                        },
                        "text/html": [
                            "<table>",
                            "<tr><th>Kategória</th><th>Szám</th></tr>",
                            "<tr><td>fiatal</td><td>342</td></tr>",
                            "<tr><td>idős</td><td>96</td></tr>",
                            "<tr><td>középkorú</td><td>442</td></tr>",
                            "</table>"
                        ]
                    }
                }
            ],
            "execution_count": 20
        }
    ]
}